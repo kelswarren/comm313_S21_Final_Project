{
 "cells": [
  {
   "cell_type": "markdown",
   "metadata": {},
   "source": [
    "# ANALYSIS 3: HEALTH\n",
    "\n",
    "In the first analysis notebook, we established that the words health and healthy were distinctive to the 2020.\n",
    "\n",
    "In this notebook I look more closely at invocations of health by:\n",
    "\n",
    "- explore different words frequencies, and by comparing to keyness from last notebook, decide which words to use to test hypothesis \n",
    "- look at words/phrases in context in KWIC\n",
    "- look at collocates around words"
   ]
  },
  {
   "cell_type": "code",
   "execution_count": 1,
   "metadata": {},
   "outputs": [],
   "source": [
    "%run functions.ipynb"
   ]
  },
  {
   "cell_type": "code",
   "execution_count": 2,
   "metadata": {},
   "outputs": [],
   "source": [
    "tweets_2019 = json.load(open(\"../data/cleaned/tweets_2019.json\"))"
   ]
  },
  {
   "cell_type": "code",
   "execution_count": 3,
   "metadata": {},
   "outputs": [],
   "source": [
    "tweets_2020 = json.load(open(\"../data/cleaned/tweets_2020.json\"))"
   ]
  },
  {
   "cell_type": "markdown",
   "metadata": {},
   "source": [
    "# Cleaning"
   ]
  },
  {
   "cell_type": "markdown",
   "metadata": {},
   "source": [
    "To look at frequencies of words we need to put tweets into string and then tokenize"
   ]
  },
  {
   "cell_type": "markdown",
   "metadata": {},
   "source": [
    "Need to make string of tweets."
   ]
  },
  {
   "cell_type": "code",
   "execution_count": 4,
   "metadata": {},
   "outputs": [],
   "source": [
    "string_2019 = ''.join(tweets_2019)"
   ]
  },
  {
   "cell_type": "code",
   "execution_count": 5,
   "metadata": {},
   "outputs": [],
   "source": [
    "string_2020 = ''.join(tweets_2020)"
   ]
  },
  {
   "cell_type": "markdown",
   "metadata": {},
   "source": [
    "Tokenize strings."
   ]
  },
  {
   "cell_type": "code",
   "execution_count": 6,
   "metadata": {},
   "outputs": [],
   "source": [
    "tokens_2019 = tokenize(string_2019, lowercase = True, strip_chars = '.,!')"
   ]
  },
  {
   "cell_type": "code",
   "execution_count": 7,
   "metadata": {},
   "outputs": [],
   "source": [
    "tokens_2020 = tokenize(string_2020, lowercase = True, strip_chars = '.,!')"
   ]
  },
  {
   "cell_type": "markdown",
   "metadata": {},
   "source": [
    "Word and Bigram Freq Need to be Saved"
   ]
  },
  {
   "cell_type": "code",
   "execution_count": 8,
   "metadata": {},
   "outputs": [],
   "source": [
    "word_freq_2019 = Counter(tokens_2019)\n",
    "bigram_freq_2019 = Counter(get_bigram_tokens(tokens_2019))"
   ]
  },
  {
   "cell_type": "code",
   "execution_count": 9,
   "metadata": {},
   "outputs": [],
   "source": [
    "word_freq_2020 = Counter(tokens_2020)\n",
    "bigram_freq_2020 = Counter(get_bigram_tokens(tokens_2020))"
   ]
  },
  {
   "cell_type": "markdown",
   "metadata": {},
   "source": [
    "# HEALTH\n",
    "\n",
    "We will start by comparing invocations of health in the two corpora."
   ]
  },
  {
   "cell_type": "markdown",
   "metadata": {},
   "source": [
    "We will look at these words as describing health:\n",
    "\n",
    "- health\n",
    "- healthy \n",
    "- alive \n",
    "- life \n",
    "- living \n",
    "- body \n",
    "- wellness\n",
    "- well-being \n",
    "- sickness\n",
    "- sick\n",
    "- disease\n",
    "- fit\n"
   ]
  },
  {
   "cell_type": "markdown",
   "metadata": {},
   "source": [
    "### We can run a filtered frequency."
   ]
  },
  {
   "cell_type": "code",
   "execution_count": 10,
   "metadata": {},
   "outputs": [],
   "source": [
    "health_words = ['health', 'healthy', 'alive', 'life', 'live','living', 'body', 'wellness', \n",
    "                    'well-being', 'sickness', 'sick', 'disease', 'fit']"
   ]
  },
  {
   "cell_type": "code",
   "execution_count": 11,
   "metadata": {},
   "outputs": [
    {
     "data": {
      "text/plain": [
       "[('life', 979),\n",
       " ('live', 182),\n",
       " ('health', 141),\n",
       " ('living', 60),\n",
       " ('alive', 58),\n",
       " ('healthy', 52),\n",
       " ('body', 34),\n",
       " ('fit', 15),\n",
       " ('sick', 15),\n",
       " ('wellness', 3),\n",
       " ('disease', 1),\n",
       " ('sickness', 1)]"
      ]
     },
     "execution_count": 11,
     "metadata": {},
     "output_type": "execute_result"
    }
   ],
   "source": [
    "filter_freq_list(word_freq_2019, health_words)"
   ]
  },
  {
   "cell_type": "code",
   "execution_count": 12,
   "metadata": {},
   "outputs": [
    {
     "data": {
      "text/plain": [
       "[('life', 838),\n",
       " ('health', 203),\n",
       " ('live', 162),\n",
       " ('healthy', 109),\n",
       " ('alive', 81),\n",
       " ('living', 55),\n",
       " ('sick', 23),\n",
       " ('body', 22),\n",
       " ('fit', 11),\n",
       " ('disease', 7),\n",
       " ('well-being', 3)]"
      ]
     },
     "execution_count": 12,
     "metadata": {},
     "output_type": "execute_result"
    }
   ],
   "source": [
    "filter_freq_list(word_freq_2020, health_words)"
   ]
  },
  {
   "cell_type": "markdown",
   "metadata": {},
   "source": [
    "### Remember that the distinctive words from Keyness relevant to health were:\n",
    "- health\n",
    "- healthy"
   ]
  },
  {
   "cell_type": "markdown",
   "metadata": {},
   "source": [
    "### So, what do we know so far, given Frequencies and Keyness?\n",
    "    \n",
    "    \n",
    "1. A lot of words related to health are not very frequent. Because we want to explore this topic for our analysis, we will look at health in context, but this might not be a very rich line of inquiry.\n",
    "  \n",
    "2. We see that \"life\" is very frequent. We need to see how it functions in context to make sure it is reflecting what we are interested in. Even so, it will be interesting to look at\n",
    "\n",
    "  \n",
    "Thus, for the purposes of our analysis, we want to focus on the most frequent tokens:\n",
    "\n",
    " -  health\n",
    " -  healthy\n",
    " -  life\n",
    "\n",
    "### What do we need to do next?\n",
    "\n",
    "A. Look at the context of these words through KWIC\n",
    "\n",
    "B. Collocates around the keywords we have selected\n",
    "\n",
    "C. Keyness of these collocates to see what is distinctive for each year about invocations of these ideas.\n",
    "    "
   ]
  },
  {
   "cell_type": "markdown",
   "metadata": {},
   "source": [
    "# KWIC: \n",
    "\n",
    "#### Now looking at mentions of health in context."
   ]
  },
  {
   "cell_type": "markdown",
   "metadata": {},
   "source": [
    "### Health (2019)"
   ]
  },
  {
   "cell_type": "code",
   "execution_count": 13,
   "metadata": {},
   "outputs": [],
   "source": [
    "kwic_health_19 = []\n",
    "\n",
    "for tweet in tweets_2019:\n",
    "    tokens_19 = tokenize(tweet, lowercase = True)\n",
    "    kwic_19 = make_kwic(\"health\", tokens_19)\n",
    "    kwic_health_19.extend(kwic_19)"
   ]
  },
  {
   "cell_type": "code",
   "execution_count": 14,
   "metadata": {},
   "outputs": [],
   "source": [
    "kwic_health_19_sample = random.sample(kwic_health_19, 50)"
   ]
  },
  {
   "cell_type": "code",
   "execution_count": 15,
   "metadata": {},
   "outputs": [
    {
     "name": "stdout",
     "output_type": "stream",
     "text": [
      "                      bed food water and  health     \n",
      "                                          health  abundance amp peace happythanksgiving2019\n",
      "             during the thursday morning  health  amp fitness segment on\n",
      "                    is about family good  health  and friendships grateful for\n",
      "        food shelter clothing employment  health  and an education we\n",
      "                  birthday today in good  health  and happiness i pray\n",
      "                      am grateful for my  health  and hope that these\n",
      "                  to bestow blessings of  health  and joy on my\n",
      "                bring you blessings good  health  and happiness httpstcoxmupuovgrg \n",
      "                bring you blessings good  health  and happiness httpstcoxmupuovgrg \n",
      "                  birthday today in good  health  and happiness i pray\n",
      "          family friends provisions life  health  and great tunes 😁🤘🏻🍁🦃🍽❤️\n",
      "                    family and peace and  health  and whatnot  \n",
      "                    life be grateful for  health  be grateful for old\n",
      "                        so good for your  health  cnn httpstcob7wjm5tlhm  \n",
      "                                          health  family and garlic mashed\n",
      "                 everyday 🖤 good friends  health  family and true love\n",
      "                our children family good  health  friends a home laughter\n",
      "                      i’m blessed for my  health  friends and family photooftheday\n",
      "                our children family good  health  friends a home laughter\n",
      "                       i give thanks for  health  happiness friends and family\n",
      " happythanksgiving usa holiday gratitude  health  home family friends food\n",
      "        gratitude love safety friendship  health  httpstcoamgz3xrz5i   \n",
      "        gratitude love safety friendship  health  httpstcoamgz3xrz5i   \n",
      "             thanksgiving fuck my mental  health  i guess  \n",
      "                      am for my family’s  health  i hope you will\n",
      "              talking about their mental  health  if they’re lucky he\n",
      "                   to sarah about mental  health  in the electronic world\n",
      "    reimagining healthcare amp inspiring  health  inspiration gratitude appreci…httpstcotzuko7swwt \n",
      "                  blessings and our good  health  jamesreid nadinelustre jadine httpstcovds6hl688z\n",
      "                  blessings and our good  health  jamesreid nadinelustre jadine httpstcovds6hl688z\n",
      "                 to watch your mealsyour  health  matters✨a blessing httpstco14048dnvpp \n",
      "          is a choice httpstcov7gaui358u  health  motivation inspiration mindset thenewsuperyou\n",
      "          is a choice httpstcov7gaui358u  health  motivation inspiration mindset thenewsuperyou\n",
      "                          for my life my  health  my love’s my family\n",
      "                     i’m thankful for my  health  my mind and my\n",
      "                      our health and the  health  of those closest to\n",
      "                      so many things our  health  our families our friends\n",
      "                     bestowed on me love  health  peace stability and every\n",
      "                     from aft nurses amp  health  professionals we are beyond\n",
      "             thankful for family friends  health  prosperity amp hillary lost😂\n",
      "                       for our love good  health  safe travels and of\n",
      "                       for our love good  health  safe travels and of\n",
      "                 many blessings and good  health  sent your way \n",
      "                    thanks for my family  health  strentgh and solid and\n",
      "                  you blessings and good  health  the allknowingpig has prepared\n",
      "                        this year for my  health  we must never take\n",
      "                        this year for my  health  we must never take\n",
      "                     in dignity and good  health  within a just society\n",
      "                      my and my family’s  health  ❤️ httpstco1bs8atcudt  \n"
     ]
    }
   ],
   "source": [
    "print_kwic(sort_kwic(kwic_health_19_sample, order=['R1']))"
   ]
  },
  {
   "cell_type": "markdown",
   "metadata": {},
   "source": [
    "### Health (2020)"
   ]
  },
  {
   "cell_type": "code",
   "execution_count": 16,
   "metadata": {},
   "outputs": [],
   "source": [
    "kwic_health_20 = []\n",
    "\n",
    "for tweet in tweets_2020:\n",
    "    tokens_20 = tokenize(tweet, lowercase = True)\n",
    "    kwic_20 = make_kwic(\"health\", tokens_20)\n",
    "    kwic_health_20.extend(kwic_20)"
   ]
  },
  {
   "cell_type": "code",
   "execution_count": 17,
   "metadata": {},
   "outputs": [],
   "source": [
    "kwic_health_20_sample = random.sample(kwic_health_20, 50)"
   ]
  },
  {
   "cell_type": "code",
   "execution_count": 18,
   "metadata": {},
   "outputs": [
    {
     "name": "stdout",
     "output_type": "stream",
     "text": [
      "                          of a home poor  health     \n",
      "                        the most part my  health     \n",
      "                     and loved ones good  health     \n",
      "                     pups many wishes of  health  amp happiness to you\n",
      "                   for my family friends  health  amp to all who\n",
      "                      am grateful for my  health  and all the positive\n",
      "                   for my family friends  health  and team today 2020\n",
      "                    people lose they are  health  and free time for\n",
      "               friends grateful for good  health  and life’s many blessings\n",
      "                        wishing u a good  health  and may our almighty\n",
      "                 any attention to mental  health  and the reality of\n",
      "               🧡 thankful for everyone’s  health  and safety this year\n",
      "                      am grateful for my  health  and all the positive\n",
      "                for family friends faith  health  and the travelblogger community\n",
      "                      our loved ones our  health  and more in this\n",
      "                  to keep fighting these  health  battles the world is\n",
      "                      it also comes with  health  benefits read more about\n",
      "                                          health  board blessing opens the\n",
      "                                          health  care workers 🙏 httpstcoh056djs85q\n",
      "                 thanks for the selfless  health  care workers caring for\n",
      "                leaderpost god bless our  health  care workers  \n",
      "                 patients at st camillus  health  center grateful girlsontherun gotrworcester\n",
      "                    lucky enough to have  health  do your part to\n",
      "                   my family friends and  health  during this time happy\n",
      "                     with my family good  health  economic security and the\n",
      "                     with my family good  health  economic security and the\n",
      "                   great for my physical  health  facilitate an emotional outlet\n",
      "                   great for my physical  health  facilitate an emotional outlet\n",
      " collective physical emotional spiritual  health  for the fact were\n",
      "                my gratitude list family  health  friends my patients my\n",
      "                improve oral and overall  health  in illinois we are\n",
      "                 family friends and good  health  ive learned to appreciate\n",
      "                     i’m thankful for my  health  i’m thankful for all\n",
      "                    thanks for my mental  health  life is a struggle\n",
      "          ask everyone protesting public  health  measures to think about\n",
      "                    family my friends my  health  my happiness having food\n",
      "                     i’m thankful for my  health  my family and friends\n",
      "                     i’m thankful for my  health  my family and friends\n",
      "                  muna ing buri musiguro  health  namu ampo ingat king\n",
      "                                          health  of my 2 girls💕\n",
      "                   is support for mental  health  only afforded to the\n",
      "                      our loved ones our  health  our homes our jobs\n",
      "                         to a new mental  health  professional and it becomes\n",
      "                   after having a couple  health  scares last year i\n",
      "                   who reads this mental  health  struggles are really and\n",
      "                 can improve your mental  health  this year wic is\n",
      "                  for family friends and  health  we are truly blessed\n",
      "                  on your blessings your  health  your husband your pets\n",
      "                    blessings • career •  health  • familyfriends • financial\n",
      "                     my family and there  health  🤎   \n"
     ]
    }
   ],
   "source": [
    "print_kwic(sort_kwic(kwic_health_20_sample, order=['R1']))"
   ]
  },
  {
   "cell_type": "markdown",
   "metadata": {},
   "source": [
    "### Healthy (2019)"
   ]
  },
  {
   "cell_type": "code",
   "execution_count": 19,
   "metadata": {},
   "outputs": [],
   "source": [
    "kwic_healthy_19 = []\n",
    "\n",
    "for tweet in tweets_2019:\n",
    "    tokens_19 = tokenize(tweet, lowercase = True)\n",
    "    kwic_19 = make_kwic(\"healthy\", tokens_19)\n",
    "    kwic_healthy_19.extend(kwic_19)"
   ]
  },
  {
   "cell_type": "code",
   "execution_count": 20,
   "metadata": {},
   "outputs": [],
   "source": [
    "kwic_healthy_19_sample = random.sample(kwic_healthy_19, 50)"
   ]
  },
  {
   "cell_type": "code",
   "execution_count": 21,
   "metadata": {},
   "outputs": [
    {
     "name": "stdout",
     "output_type": "stream",
     "text": [
      "                      working to keep us  healthy  all year long brother\n",
      "                          i am alive and  healthy  and surrounded by love\n",
      "                       people tend to be  healthy  and happy they exhibit\n",
      "                        everyone in wb a  healthy  and happy holiday httpstcotc6ajjxi2f\n",
      "                    achieve the dream of  healthy  and successful students and\n",
      "                    achieve the dream of  healthy  and successful students and\n",
      "               allah continue bless with  healthy  and miji nagari \n",
      "                      and everyone to be  healthy  and happy brightest blessings\n",
      "          thanksgiving skip you’re still  healthy  and rich don’t have\n",
      "                     says “it’s having a  healthy  appreciation for the broader\n",
      "                         life i wax very  healthy  but now i thank\n",
      "         wonderful husband amp beautiful  healthy  children today and everyday\n",
      "         wonderful husband amp beautiful  healthy  children today and everyday\n",
      "                       yours a happy and  healthy  day httpstcotqpqbixwwk  \n",
      "                            long as i am  healthy  enough to play i\n",
      "                            long as i am  healthy  enough to play i\n",
      "                     for being alive and  healthy  everything i am right\n",
      "                     for being alive and  healthy  everything i am right\n",
      "                          than a year😍 a  healthy  family great friends and\n",
      "                         when you have a  healthy  functioning family appreciate that\n",
      "                     house car and being  healthy  god is good all…\n",
      "                     house car and being  healthy  god is good all…\n",
      "                     wishing you a happy  healthy  holiday surrounded by family\n",
      "                        family and i are  healthy  i have amazing friends\n",
      "                          up this day im  healthy  im blessed iloveyou 😘\n",
      "                    holiday season and a  healthy  life httpstcouykm12e8sm  \n",
      "                    holiday season and a  healthy  life httpstcouykm12e8sm  \n",
      "                    holiday season and a  healthy  life httpstcouykm12e8sm  \n",
      "                     live long happy and  healthy  lives❤️ httpstco49akb6vogi  \n",
      "                     live long happy and  healthy  lives❤️ httpstco49akb6vogi  \n",
      "               wishing blessing of black  healthy  love to continue for\n",
      "               wishing blessing of black  healthy  love to continue for\n",
      "                        and for having a  healthy  loving family🌸 also for\n",
      "                         safe may you be  healthy  may you be loved\n",
      "                         safe may you be  healthy  may you be loved\n",
      "                         safe may you be  healthy  may you be loved\n",
      "                          return me to a  healthy  mental state family corgicorps\n",
      "                          return me to a  healthy  mental state family corgicorps\n",
      "                         8 years ago now  healthy  place feel for those\n",
      "                                          healthy  rbs and healthy wrssome\n",
      "             gratitude need a lastminute  healthy  recipe visit the link\n",
      "               an important component of  healthy  relationships happy thanksgiving to\n",
      "                       on 1020 small but  healthy  she got through her…\n",
      "                       on 1020 small but  healthy  she got through her…\n",
      "                         all a happy amp  healthy  thanksgiving appreciation is a\n",
      "                    thanksgiving ☐ eat a  healthy  wellrounded meal like usual\n",
      "                   am grateful for small  healthy  wins today  \n",
      "                    have healthy rbs and  healthy  wrssome real good playmakers\n",
      "              year especially keeping me  healthy  😇   \n",
      "              year especially keeping me  healthy  😇   \n"
     ]
    }
   ],
   "source": [
    "print_kwic(sort_kwic(kwic_healthy_19_sample, order=['R1']))"
   ]
  },
  {
   "cell_type": "markdown",
   "metadata": {},
   "source": [
    "### Healthy (2020)"
   ]
  },
  {
   "cell_type": "code",
   "execution_count": 22,
   "metadata": {},
   "outputs": [],
   "source": [
    "kwic_healthy_20 = []\n",
    "\n",
    "for tweet in tweets_2020:\n",
    "    tokens_20 = tokenize(tweet, lowercase = True)\n",
    "    kwic_20 = make_kwic(\"healthy\", tokens_20)\n",
    "    kwic_healthy_20.extend(kwic_20)"
   ]
  },
  {
   "cell_type": "code",
   "execution_count": 23,
   "metadata": {},
   "outputs": [],
   "source": [
    "kwic_healthy_20_sample = random.sample(kwic_healthy_20, 50)"
   ]
  },
  {
   "cell_type": "code",
   "execution_count": 24,
   "metadata": {},
   "outputs": [
    {
     "name": "stdout",
     "output_type": "stream",
     "text": [
      "                        to stay safe and  healthy     \n",
      "     mentally physically amp financially  healthy     \n",
      "                       ones are safe and  healthy     \n",
      "                   my family and friends  healthy  2020 has been challenging\n",
      "                   my family and friends  healthy  2020 has been challenging\n",
      "                          for a safe and  healthy  2021 and always hunterpence\n",
      "                         long 4 yrs stay  healthy  amp safe 💜 httpstcouyddx6fgbu\n",
      "                       that my family is  healthy  and that we are\n",
      "                      to wish everyone a  healthy  and happy thanksgiving let\n",
      "                          me dear you be  healthy  and happy plz god\n",
      "                        i hope yall stay  healthy  and safe  \n",
      "                everyone is staying safe  healthy  and feeling the love\n",
      "                       that my family is  healthy  and that we are\n",
      "                 i’m grateful that we’re  healthy  and that we have\n",
      "                       stayed amp left 💕  healthy  and happy httpstcodm7bdfcian \n",
      "                         you have a safe  healthy  and thankful holiday 🦃\n",
      "                      i’m thankful to be  healthy  and cozy after a\n",
      "                     so many things stay  healthy  and b safe \n",
      "                    thankful to be alive  healthy  blessed grateful 💙💙🙏🙏💕💕 \n",
      "              today been lucky everyones  healthy  cant ask for more\n",
      "                   and friends are still  healthy  even from the impact\n",
      "                  family and friends are  healthy  everything else is just\n",
      "                   for loyal friends and  healthy  family   \n",
      "                 happiness stay safe and  healthy  god bless you ❤🙏\n",
      "                           3 kids 2 dogs  healthy  happy ready for what\n",
      "                           3 kids 2 dogs  healthy  happy ready for what\n",
      "                       be home alone but  healthy  happy amp grateful \n",
      "                   kebryan stay safe amp  healthy  hope to see you\n",
      "                 you’re staying safe and  healthy  hope you managed to\n",
      "                     my parents are both  healthy  i’m so blessed alhamdulillah\n",
      "                     my parents are both  healthy  i’m so blessed alhamdulillah\n",
      "                      family is safe and  healthy  lets just finish this\n",
      "                         wish you a very  healthy  life which is the\n",
      "                     you longer life and  healthy  living 💐  \n",
      "                      be safe strong and  healthy  may god bless youus\n",
      "                 saying i’m grateful i’m  healthy  or have loved ones\n",
      "                 saying i’m grateful i’m  healthy  or have loved ones\n",
      "                        with mike and be  healthy  safe and have a\n",
      "                       year my family is  healthy  so are my friends\n",
      "                       i got a perfectly  healthy  son a new apartment\n",
      "                         we can all stay  healthy  thank you front line\n",
      "                         we can all stay  healthy  thank you front line\n",
      "              one year anniversary happy  healthy  thanksgiving everyone so grateful\n",
      "                        a safe happy amp  healthy  thanksgiving whether together or\n",
      "                         have a safe and  healthy  thanksgiving keeping those who\n",
      "                        yours a safe and  healthy  thanksgiving httpstco3lpvlw5nmz  \n",
      "                         have a safe and  healthy  thanksgiving keeping those who\n",
      "                     a safe peaceful and  healthy  thanksgiving gratitude happythanksgiving ✨\n",
      "                     simply be alive and  healthy  the moment you start\n",
      "                      family is safe and  healthy  we have not been\n"
     ]
    }
   ],
   "source": [
    "print_kwic(sort_kwic(kwic_healthy_20_sample, order=['R1']))"
   ]
  },
  {
   "cell_type": "markdown",
   "metadata": {},
   "source": [
    "### Life (2019)"
   ]
  },
  {
   "cell_type": "code",
   "execution_count": 25,
   "metadata": {},
   "outputs": [],
   "source": [
    "kwic_life_19 = []\n",
    "\n",
    "for tweet in tweets_2019:\n",
    "    tokens_19 = tokenize(tweet, lowercase = True)\n",
    "    kwic_19 = make_kwic(\"life\", tokens_19)\n",
    "    kwic_life_19.extend(kwic_19)"
   ]
  },
  {
   "cell_type": "code",
   "execution_count": 26,
   "metadata": {},
   "outputs": [],
   "source": [
    "kwic_life_19_sample = random.sample(kwic_life_19, 50)"
   ]
  },
  {
   "cell_type": "code",
   "execution_count": 27,
   "metadata": {},
   "outputs": [
    {
     "name": "stdout",
     "output_type": "stream",
     "text": [
      "                       be great full for  life     \n",
      "                                     for  life     \n",
      "                    many blessings in my  life  a full life of\n",
      "                       best people in my  life  amp in 176 days\n",
      "                    havenyou both in his  life  and putting him first\n",
      "                  family and a wonderful  life  and im extremely grateful\n",
      "                     us through his long  life  and khilafat  \n",
      "                       the gifts in your  life  and leaving room for\n",
      "                   the blessings in your  life  blessings thanksgiving thankful success\n",
      "                                          life  family and friends happy\n",
      "                  this year blessed with  life  family and friends happy\n",
      "                   continue to impact my  life  for the better the\n",
      "                       im warm thank you  life  for keeping me in\n",
      "             niece nephew nieces friends  life  happy me fun familia\n",
      "                                          life  has its ups and\n",
      "                       the gift of every  life  httpstcoj47xzvb4fy   \n",
      "      experience greater satisfaction in  life  httpstcov5qt8dt7hy gratitude thankful thankfulness\n",
      "                      so grateful for my  life  httpstcoy6obqwamor   \n",
      "                forever grateful for the  life  i have so remember\n",
      "                              i am in my  life  i got to cover\n",
      "                   for living my blessed  life  i wish the same\n",
      "                          have you in my  life  i thank god every\n",
      "                        do not live your  life  in gratitude before him\n",
      "                         for being in my  life  in any capacity you\n",
      "                                          life  is truly a blessing\n",
      "                and a beautiful daughter  life  is good thanksgiving babyreign\n",
      "                                          life  is a melody blessings\n",
      "                                          life  its self 💯‼️ \n",
      "                            is new to my  life  journey and i i’m\n",
      "             rogers throughout my entire  life  just to keep me\n",
      "                           so busy in my  life  kinda blessed tho \n",
      "                         thing i need in  life  lydiahelenn httpstcoihbgtyp0pj  \n",
      "                 unlocks the fullness of  life  may you have a\n",
      "                            a part of my  life  mr l httpstcodqiqpxmqrd \n",
      "                     and give thanks for  life  new mercy and new\n",
      "                          my life a full  life  of family friends fun\n",
      "                 now and celebrate their  life  rather than mourn in\n",
      "                        the people in my  life  right now love y’all\n",
      "                  gods blessings in your  life  take a moment to\n",
      "                      for all the things  life  taught me this year\n",
      "                          the rest of my  life  thank you for blessing\n",
      "                         hope to live my  life  that way one flower\n",
      "                 lessons i’ve learned in  life  that have shaped me\n",
      "                        and family in my  life  things arent perfect and\n",
      "                    that have entered my  life  this year💕  \n",
      "                             a lot in my  life  to be grateful for\n",
      "                     other friends in my  life  today i love you\n",
      "                     games for making my  life  worth living  \n",
      "                        into place in my  life  ❤️ can’t wait to\n",
      "                   amazing support in my  life  🙏🏼 eastside costa mesa\n"
     ]
    }
   ],
   "source": [
    "print_kwic(sort_kwic(kwic_life_19_sample, order=['R1']))"
   ]
  },
  {
   "cell_type": "markdown",
   "metadata": {},
   "source": [
    "### Life (2020)"
   ]
  },
  {
   "cell_type": "code",
   "execution_count": 28,
   "metadata": {},
   "outputs": [],
   "source": [
    "kwic_life_20 = []\n",
    "\n",
    "for tweet in tweets_2020:\n",
    "    tokens_20 = tokenize(tweet, lowercase = True)\n",
    "    kwic_20 = make_kwic(\"life\", tokens_20)\n",
    "    kwic_life_20.extend(kwic_20)"
   ]
  },
  {
   "cell_type": "code",
   "execution_count": 29,
   "metadata": {},
   "outputs": [],
   "source": [
    "kwic_life_20_sample = random.sample(kwic_life_20, 50)"
   ]
  },
  {
   "cell_type": "code",
   "execution_count": 30,
   "metadata": {},
   "outputs": [
    {
     "name": "stdout",
     "output_type": "stream",
     "text": [
      "                                     for  life     \n",
      "                        what you have in  life     \n",
      "                  instead of an innocent  life     \n",
      "                    live in harmony with  life  and that all people\n",
      "                    many blessings in my  life  and i am grateful\n",
      "                        the people in my  life  and thankful that the\n",
      "                         that came to my  life  and made it endlessly\n",
      "                          has been in my  life  and put a smile\n",
      "                                          life  and all my blessings\n",
      "                         of things in my  life  and i started to\n",
      "                    guys have changed my  life  and words will never\n",
      "                       will go places in  life  because one girl blessed\n",
      "                 in our community making  life  better for more people\n",
      "            happy love familia goodtimes  life  blessings blessedlife httpstcown1nxegeey \n",
      "                                          life  can be trying in\n",
      "                  you’ve brought into my  life  can’t wait to see\n",
      "                     the desires of your  life  continue spreading smiles to\n",
      "                     him you changed his  life  every person that opened\n",
      "                     and influence in my  life  for 10 years thank\n",
      "                     and for having this  life  happy turkey day🦃 httpstcoyiuiditkgj\n",
      "                           to do in your  life  happythanksgiving httpstcon6dijk6dz8  \n",
      "                      and everyone in my  life  have a beautiful and\n",
      "                          much joy to my  life  humans do not deserve\n",
      "                      the best things in  life  i hope you celebrate\n",
      "                     has brought into my  life  i am a better\n",
      "                      for everyone in my  life  i love you all🥺💕\n",
      "               wonderful blessings in my  life  i truly appreciate your\n",
      "                    and works changed my  life  i am so honored\n",
      "                          my show but my  life  i am truly blessed\n",
      "                          do to live the  life  i want for me\n",
      "                   if you’ve impacted my  life  in any way i\n",
      "                   if you’ve impacted my  life  in any way i\n",
      "                     have all touched my  life  in a positive way\n",
      "                     blessed with how my  life  is right now i’m\n",
      "                                          life  itself ❤️  \n",
      "                             is a way of  life  keep gratitude at the\n",
      "                      lord that lends me  life  lend me a heart\n",
      "                        still have in my  life  love y’all ❤️❤️❤️ \n",
      "                       the loves❤️ in my  life  mfs who ain’t never\n",
      "                 provide advice on later  life  planning to 500 limerick\n",
      "                         amp small in my  life  please say a prayer\n",
      "                        to a more normal  life  shortly please stand by\n",
      "                          what i love in  life  some people arent lucky\n",
      "                    so grateful for your  life  thanks i love you\n",
      "              i have received throughout  life  the privilege to serve\n",
      "                      to be thankful for  life  today it can be\n",
      "                       were\" as if dekes  life  wasnt absolute shit and\n",
      "                  for everything in your  life  we love y’all 💜\n",
      "                    thanks god saving my  life  why i sengprince never\n",
      "                         no longer in my  life  ✨   \n"
     ]
    }
   ],
   "source": [
    "print_kwic(sort_kwic(kwic_life_20_sample, order=['R1']))"
   ]
  },
  {
   "cell_type": "markdown",
   "metadata": {},
   "source": [
    "### What does this tell us?\n",
    "\n",
    "1. As expected, 'health' is surrounded by references to health care workers, the year, and other people a lot more in 2020. \n",
    "\n",
    "2. 'healthy' is not very frequent, so it is hard to make conclusions on a small KWIC list. But, it is clear that 'healthy' is also more in this COVID context in 2020 then in 2019 when it is more a good wish in addition to other wishes on Thanksgiving. \n",
    "\n",
    "3. 'life' could be its own reach project as it is clearly very multi-faceted in how it is used.\n",
    "\n",
    "### What can we do next?\n",
    "\n",
    "It is difficult to compare KWIC, so we can:\n",
    "\n",
    "A. **look at the collocates around these words to see in what contexts they function.**  \n",
    "B. **look at the collacates' keyness to see if these contexts are distinctive.**\n",
    "\n",
    "\n",
    "##### Let's focus on HEALTH and HEALTHY for now and make some conclusions about our hypothesis and then we can look at life in the next notebook.\n"
   ]
  },
  {
   "cell_type": "markdown",
   "metadata": {},
   "source": [
    "## Keyness of Collocates Around Health + Healthy."
   ]
  },
  {
   "cell_type": "markdown",
   "metadata": {},
   "source": [
    "## Health "
   ]
  },
  {
   "cell_type": "code",
   "execution_count": 31,
   "metadata": {},
   "outputs": [],
   "source": [
    "coll_health_19 = collocates(tokens_2019,\"health\", win=[7,7])"
   ]
  },
  {
   "cell_type": "code",
   "execution_count": 32,
   "metadata": {},
   "outputs": [],
   "source": [
    "coll_health_19_freq = Counter([word for word in tokens_2019 if (word in coll_health_19)])"
   ]
  },
  {
   "cell_type": "code",
   "execution_count": 33,
   "metadata": {},
   "outputs": [],
   "source": [
    "coll_health_20 = collocates(tokens_2020,\"health\", win=[7,7])"
   ]
  },
  {
   "cell_type": "code",
   "execution_count": 34,
   "metadata": {},
   "outputs": [],
   "source": [
    "coll_health_20_freq = Counter([word for word in tokens_2020 if (word in coll_health_20)])"
   ]
  },
  {
   "cell_type": "code",
   "execution_count": 35,
   "metadata": {},
   "outputs": [
    {
     "name": "stdout",
     "output_type": "stream",
     "text": [
      "WORD                     Corpus A Freq.Corpus B Freq.Keyness\n",
      "============================================================\n",
      "day                      1700      1265      90.636\n",
      "thanksgiving             4123      3599      70.841\n",
      "•                        130       41        53.779\n",
      "for                      9222      8791      48.391\n",
      "family                   1710      1413      47.294\n",
      "2019                     78        17        45.915\n",
      "friends                  984       767       40.436\n",
      "and                      9026      8691      38.824\n",
      "thankful                 3101      2817      34.091\n",
      "of                       4837      4542      33.046\n",
      "our                      1758      1530      31.107\n",
      "to                       8736      8517      28.434\n",
      "with                     2115      1916      24.072\n",
      "give                     1028      868       23.924\n",
      "he                       558       434       23.233\n",
      "life                     979       838       20.236\n",
      "at                       820       694       18.709\n",
      "#thanksgiving            618       505       18.570\n",
      "#grateful                261       183       18.473\n",
      "my                       4026      3870      17.936\n",
      "from                     969       843       17.211\n",
      "the                      8247      8180      16.802\n",
      "in                       2858      2708      16.748\n",
      "i'm                      745       633       16.437\n",
      "are                      1932      1792      15.977\n",
      "part                     149       94        15.816\n",
      "work                     291       217       15.343\n",
      "lucky                    799       693       14.614\n",
      "home                     216       156       13.358\n",
      "best                     337       265       13.119\n",
      "abundance                31        10        12.488\n",
      "back                     248       187       12.325\n",
      "great                    507       427       12.053\n",
      "a                        5402      5347      11.720\n",
      "#gratitude               326       260       11.589\n",
      "we're                    134       90        11.329\n",
      "thanks                   2094      1994      11.210\n",
      "an                       536       460       10.822\n",
      "share                    199       149       10.270\n",
      "without                  209       160       9.548\n",
      "me                       1740      1657      9.305\n",
      "today                    825       750       8.985\n",
      "on                       1690      1611      8.870\n",
      "-                        481       419       8.435\n",
      "all                      3035      2978      8.403\n",
      "#thankfulness            134       97        8.197\n",
      "everyone                 844       777       7.771\n",
      "families                 152       117       6.730\n",
      "their                    412       362       6.625\n"
     ]
    }
   ],
   "source": [
    "calculate_keyness(coll_health_19_freq, coll_health_20_freq, top=50)"
   ]
  },
  {
   "cell_type": "code",
   "execution_count": 36,
   "metadata": {},
   "outputs": [
    {
     "name": "stdout",
     "output_type": "stream",
     "text": [
      "WORD                     Corpus A Freq.Corpus B Freq.Keyness\n",
      "============================================================\n",
      "safe                     331       120       91.251\n",
      "year                     1060      720       47.755\n",
      "through                  303       182       24.134\n",
      "healthcare               25        5         13.462\n",
      "but                      1532      1266      12.660\n",
      "lot                      284       196       11.687\n",
      "during                   140       84        11.199\n",
      "positive                 80        43        9.335\n",
      "has                      706       568       8.268\n",
      "care                     142       92        8.158\n",
      "health                   203       141       8.043\n",
      "been                     706       574       7.267\n",
      "myself                   122       79        7.027\n",
      "despite                  51        26        6.931\n"
     ]
    }
   ],
   "source": [
    "calculate_keyness(coll_health_20_freq, coll_health_19_freq, top=50)"
   ]
  },
  {
   "cell_type": "markdown",
   "metadata": {},
   "source": [
    "### Collocates around health distinctive to 2019 corpus: \n",
    " - loved ones: family, friends, families, \n",
    " - nouns: work, home\n",
    " - positive descriptions: best, great, abundance\n",
    " - life\n",
    " - pronouns: he, my, me, we're/i'm\n",
    "\n",
    "### Collocates around health distinctive to 2020 corpus:\n",
    " - covid related nouns: safe, healthcare, care, health\n",
    " - modifiers: despite, through, lot, but, despite\n",
    " - pronouns: myself\n",
    " - encouragement: positive, stay "
   ]
  },
  {
   "cell_type": "markdown",
   "metadata": {},
   "source": [
    "# Healthy"
   ]
  },
  {
   "cell_type": "code",
   "execution_count": 37,
   "metadata": {},
   "outputs": [],
   "source": [
    "coll_healthy_19 = collocates(tokens_2019,\"healthy\", win=[4,4])"
   ]
  },
  {
   "cell_type": "code",
   "execution_count": 38,
   "metadata": {},
   "outputs": [],
   "source": [
    "coll_healthy_20 = collocates(tokens_2020,\"healthy\", win=[4,4])"
   ]
  },
  {
   "cell_type": "code",
   "execution_count": 39,
   "metadata": {},
   "outputs": [],
   "source": [
    "coll_healthy_19_freq = Counter([word for word in tokens_2020 if (word in coll_healthy_19)])"
   ]
  },
  {
   "cell_type": "code",
   "execution_count": 40,
   "metadata": {},
   "outputs": [],
   "source": [
    "coll_healthy_20_freq = Counter([word for word in tokens_2020 if (word in coll_healthy_20)])"
   ]
  },
  {
   "cell_type": "code",
   "execution_count": 41,
   "metadata": {},
   "outputs": [
    {
     "name": "stdout",
     "output_type": "stream",
     "text": [
      "WORD                     Corpus A Freq.Corpus B Freq.Keyness\n",
      "============================================================\n",
      "for                      8791      8791      128.311\n",
      "and                      8691      8691      126.851\n",
      "to                       8517      8517      124.312\n",
      "the                      8180      8180      119.393\n",
      "you                      7138      7138      104.184\n",
      "i                        5850      5850      85.385\n",
      "a                        5347      5347      78.043\n",
      "of                       4542      4542      66.294\n",
      "thanksgiving             3599      3599      52.530\n",
      "all                      2978      2978      43.466\n",
      "this                     2811      2811      41.029\n",
      "is                       2747      2747      40.094\n",
      "in                       2708      2708      39.525\n",
      "that                     2441      2441      35.628\n",
      "grateful                 2367      2367      34.548\n",
      "we                       2328      2328      33.979\n",
      "have                     2253      2253      32.884\n",
      "be                       2141      2141      31.249\n",
      "with                     1916      1916      27.965\n",
      "happy                    1897      1897      27.688\n",
      "are                      1792      1792      26.156\n",
      "me                       1657      1657      24.185\n",
      "but                      1532      1532      22.361\n",
      "love                     1449      1449      21.149\n",
      "family                   1413      1413      20.624\n",
      "day                      1265      1265      18.464\n",
      "&amp;                    1135      1135      16.566\n",
      "am                       1123      1123      16.391\n",
      "year                     1060      1060      15.471\n",
      "thank                    1014      1014      14.800\n",
      "gratitude                989       989       14.435\n",
      "appreciation             917       917       13.384\n",
      "god                      916       916       13.370\n",
      "as                       915       915       13.355\n",
      "life                     838       838       12.231\n",
      "us                       800       800       11.677\n",
      "everyone                 777       777       11.341\n",
      "friends                  767       767       11.195\n",
      "today                    750       750       10.947\n",
      "blessing                 715       715       10.436\n",
      "like                     696       696       10.159\n",
      "hope                     664       664       9.692\n",
      "good                     623       623       9.093\n",
      "bless                    612       612       8.933\n",
      "blessed                  572       572       8.349\n",
      "#thanksgiving            505       505       7.371\n",
      "very                     495       495       7.225\n"
     ]
    }
   ],
   "source": [
    "calculate_keyness(coll_healthy_19_freq, coll_healthy_20_freq, top=50)"
   ]
  },
  {
   "cell_type": "markdown",
   "metadata": {},
   "source": [
    "- 2020 corpus does not have distinctive collocates around healthy"
   ]
  },
  {
   "cell_type": "markdown",
   "metadata": {},
   "source": [
    "### Collocates around healthy distinctive to 2019 corpus:\n",
    "\n",
    "- hypothesis/loved ones nouns: family, friends \n",
    "- expressions of gratitude: thank, gratitude, appreciation, blessing, bless, blessed\n",
    "- positive modifiers: very, all\n",
    "- big picture nouns: love, life, hope"
   ]
  },
  {
   "cell_type": "markdown",
   "metadata": {},
   "source": [
    "### What does this mean for our hypothesis?\n",
    "\n",
    "Once again, we see our further analysis of health in context, both in KWIC and keyness of the collocates, **support our hypothesis** about family/friends being more distinctive to 2019 and health being distinctive to 2020.\n",
    "\n",
    "### What else has this analysis suggests?\n",
    "\n",
    "We see that words surrounding health in 2020 are negative modifiers (but, though, despite) and less positive than those surrounding health in 2019 which are more positive expressions of gratitude, big picture nouns, and modifiers. \n",
    "\n",
    "This suggests that the context in which gratitude for these topics occurs is different, cushioned in different language. This makes sense given the year we've had. "
   ]
  },
  {
   "cell_type": "code",
   "execution_count": null,
   "metadata": {},
   "outputs": [],
   "source": []
  }
 ],
 "metadata": {
  "kernelspec": {
   "display_name": "Python 3",
   "language": "python",
   "name": "python3"
  },
  "language_info": {
   "codemirror_mode": {
    "name": "ipython",
    "version": 3
   },
   "file_extension": ".py",
   "mimetype": "text/x-python",
   "name": "python",
   "nbconvert_exporter": "python",
   "pygments_lexer": "ipython3",
   "version": "3.7.3"
  }
 },
 "nbformat": 4,
 "nbformat_minor": 2
}
