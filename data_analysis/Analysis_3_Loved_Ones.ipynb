{
 "cells": [
  {
   "cell_type": "markdown",
   "metadata": {},
   "source": [
    "# ANALYSIS 3: LOVED ONES\n",
    "\n",
    "In the last notebook, we established that family and friends are more distinctive to the 2019 corpus. However, we want to see whether these words appear in different context/for different reasons in the two years...\n",
    "\n",
    "In this notebook I look more closely at the part of my topic on invocations of loved ones by:\n",
    "\n",
    "- explore different words frequencies, and by comparing to keyness from last notebook, decide which words to use to test hypothesis \n",
    "- look at words/phrases in context in KWIC\n",
    "- look at collocates around words\n",
    "\n",
    "**See logic of this roadmap after frequency lists below.**"
   ]
  },
  {
   "cell_type": "code",
   "execution_count": 1,
   "metadata": {},
   "outputs": [],
   "source": [
    "%run functions.ipynb"
   ]
  },
  {
   "cell_type": "code",
   "execution_count": 2,
   "metadata": {},
   "outputs": [],
   "source": [
    "tweets_2019 = json.load(open(\"../data/cleaned/tweets_2019.json\"))"
   ]
  },
  {
   "cell_type": "code",
   "execution_count": 3,
   "metadata": {},
   "outputs": [],
   "source": [
    "tweets_2020 = json.load(open(\"../data/cleaned/tweets_2020.json\"))"
   ]
  },
  {
   "cell_type": "markdown",
   "metadata": {},
   "source": [
    "## Cleaning"
   ]
  },
  {
   "cell_type": "markdown",
   "metadata": {},
   "source": [
    "To look at frequencies of words we need to put tweets into string and then tokenize"
   ]
  },
  {
   "cell_type": "markdown",
   "metadata": {},
   "source": [
    "Need to make string of tweets"
   ]
  },
  {
   "cell_type": "code",
   "execution_count": 4,
   "metadata": {},
   "outputs": [],
   "source": [
    "string_2019 = ''.join(tweets_2019)"
   ]
  },
  {
   "cell_type": "code",
   "execution_count": 5,
   "metadata": {},
   "outputs": [],
   "source": [
    "string_2020 = ''.join(tweets_2020)"
   ]
  },
  {
   "cell_type": "markdown",
   "metadata": {},
   "source": [
    "Tokenize."
   ]
  },
  {
   "cell_type": "code",
   "execution_count": 6,
   "metadata": {},
   "outputs": [],
   "source": [
    "tokens_2019 = tokenize(string_2019, lowercase = True, strip_chars = '.,!')"
   ]
  },
  {
   "cell_type": "code",
   "execution_count": 7,
   "metadata": {},
   "outputs": [],
   "source": [
    "tokens_2020 = tokenize(string_2020, lowercase = True, strip_chars = '.,!')"
   ]
  },
  {
   "cell_type": "markdown",
   "metadata": {},
   "source": [
    "Save freq lists."
   ]
  },
  {
   "cell_type": "code",
   "execution_count": 8,
   "metadata": {},
   "outputs": [],
   "source": [
    "word_freq_2019 = Counter(tokens_2019)\n",
    "bigram_freq_2019 = Counter(get_bigram_tokens(tokens_2019))"
   ]
  },
  {
   "cell_type": "code",
   "execution_count": 9,
   "metadata": {},
   "outputs": [],
   "source": [
    "word_freq_2020 = Counter(tokens_2020)\n",
    "bigram_freq_2020 = Counter(get_bigram_tokens(tokens_2020))"
   ]
  },
  {
   "cell_type": "markdown",
   "metadata": {},
   "source": [
    "# LOVES ONES\n",
    "\n",
    "We will start by comparing invocations of family and other loved ones in the two corpora."
   ]
  },
  {
   "cell_type": "markdown",
   "metadata": {},
   "source": [
    "We will look at these words as describing loved ones:\n",
    "\n",
    "- #family \n",
    "- family\n",
    "- friends \n",
    "- you\n",
    "- boyfriend\n",
    "- girlfriend\n",
    "- mother \n",
    "- father \n",
    "- dad\n",
    "- mom\n",
    "- brother\n",
    "- sister\n",
    "- son\n",
    "- daughter \n",
    "- ily\n",
    "\n",
    "And this bigram:\n",
    "- for you"
   ]
  },
  {
   "cell_type": "markdown",
   "metadata": {},
   "source": [
    "### We can run a filtered frequency."
   ]
  },
  {
   "cell_type": "code",
   "execution_count": 10,
   "metadata": {},
   "outputs": [],
   "source": [
    "loved_ones_words = ['#family','family','friends','you','boyfriend', 'girlfriend','mother', 'father', 'dad', \n",
    "                    'mom', 'brother', 'sister', 'son', 'daughter','ily']"
   ]
  },
  {
   "cell_type": "code",
   "execution_count": 11,
   "metadata": {},
   "outputs": [
    {
     "data": {
      "text/plain": [
       "[('you', 6574),\n",
       " ('family', 1710),\n",
       " ('friends', 984),\n",
       " ('#family', 156),\n",
       " ('mom', 98),\n",
       " ('brother', 59),\n",
       " ('dad', 51),\n",
       " ('sister', 43),\n",
       " ('mother', 41),\n",
       " ('son', 37),\n",
       " ('father', 33),\n",
       " ('daughter', 28),\n",
       " ('boyfriend', 22),\n",
       " ('girlfriend', 18),\n",
       " ('ily', 15)]"
      ]
     },
     "execution_count": 11,
     "metadata": {},
     "output_type": "execute_result"
    }
   ],
   "source": [
    "filter_freq_list(word_freq_2019, loved_ones_words)"
   ]
  },
  {
   "cell_type": "code",
   "execution_count": 12,
   "metadata": {},
   "outputs": [
    {
     "data": {
      "text/plain": [
       "562"
      ]
     },
     "execution_count": 12,
     "metadata": {},
     "output_type": "execute_result"
    }
   ],
   "source": [
    "bigram_freq_2019[\"for you\"]"
   ]
  },
  {
   "cell_type": "code",
   "execution_count": 13,
   "metadata": {},
   "outputs": [
    {
     "data": {
      "text/plain": [
       "[('you', 7138),\n",
       " ('family', 1413),\n",
       " ('friends', 767),\n",
       " ('mom', 97),\n",
       " ('#family', 79),\n",
       " ('brother', 72),\n",
       " ('sister', 51),\n",
       " ('son', 48),\n",
       " ('daughter', 45),\n",
       " ('father', 45),\n",
       " ('mother', 44),\n",
       " ('ily', 39),\n",
       " ('dad', 37),\n",
       " ('boyfriend', 10),\n",
       " ('girlfriend', 9)]"
      ]
     },
     "execution_count": 13,
     "metadata": {},
     "output_type": "execute_result"
    }
   ],
   "source": [
    "filter_freq_list(word_freq_2020, loved_ones_words)"
   ]
  },
  {
   "cell_type": "code",
   "execution_count": 14,
   "metadata": {},
   "outputs": [
    {
     "data": {
      "text/plain": [
       "750"
      ]
     },
     "execution_count": 14,
     "metadata": {},
     "output_type": "execute_result"
    }
   ],
   "source": [
    "bigram_freq_2020[\"for you\"]"
   ]
  },
  {
   "cell_type": "markdown",
   "metadata": {},
   "source": [
    "We can look at these frequencies in the context of the length of the corpus."
   ]
  },
  {
   "cell_type": "code",
   "execution_count": 15,
   "metadata": {},
   "outputs": [
    {
     "data": {
      "text/plain": [
       "0.08394140552309237"
      ]
     },
     "execution_count": 15,
     "metadata": {},
     "output_type": "execute_result"
    }
   ],
   "source": [
    "Counter(word_freq_2019)[\"family\"]*100/len(tokens_2019)-Counter(word_freq_2020)[\"family\"]*100/len(tokens_2020)"
   ]
  },
  {
   "cell_type": "markdown",
   "metadata": {},
   "source": [
    "In this way, we can see that 'family' is only 0.08% more frequent as a word out of all the words for 2019 compared to 2020."
   ]
  },
  {
   "cell_type": "code",
   "execution_count": 16,
   "metadata": {},
   "outputs": [
    {
     "data": {
      "text/plain": [
       "0.06321728133157434"
      ]
     },
     "execution_count": 16,
     "metadata": {},
     "output_type": "execute_result"
    }
   ],
   "source": [
    "Counter(word_freq_2019)[\"friends\"]*100/len(tokens_2019)-Counter(word_freq_2020)[\"friends\"]*100/len(tokens_2020)"
   ]
  },
  {
   "cell_type": "markdown",
   "metadata": {},
   "source": [
    "In this way, we can see that 'friends' is only 0.06% more frequent as a word out of all the words for 2019 compared to 2020."
   ]
  },
  {
   "cell_type": "markdown",
   "metadata": {},
   "source": [
    "### Let's remember the distinctive words from Keyness relevant to the question of loved ones:\n",
    "\n",
    "Notable distinctive words to 2019:\n",
    "\n",
    "- #family \n",
    "- family\n",
    "- friends\n",
    "\n",
    "Notable distinctive words to 2020:\n",
    "\n",
    "- you"
   ]
  },
  {
   "cell_type": "markdown",
   "metadata": {},
   "source": [
    "### So, what do we know so far, given Frequencies and Keyness?\n",
    "\n",
    "1. We can see that *family* and *friends* are the most frequent/distinctive words that signal loved ones.\n",
    "\n",
    "2. *you* and *for you* are also very common, although we don't know that these refer to loved ones, but it is still important they are mentioning other people. We will continue to look at this in this notebook and later when we look at pronouns.\n",
    "\n",
    "3. We can see that other members of ones family/relationship network are **not** very common. This suggests that on Twitter people are not calling these types of loved ones out by name. This could be because they just tag them.\n",
    "\n",
    "### What do we need to do next?\n",
    "\n",
    "**Look at these keywords we've isolated.**\n",
    "\n",
    "A. Look at the context of these words through KWIC:\n",
    " -  family\n",
    " -  friends\n",
    " -  you\n",
    " \n",
    " \n",
    "(We are not going to look at #family because hashtags are not always used in the format I am grateful for _ and can instead just be added to the end of a tweet. For the purpose of our analysis will will focus on words being used in a sentence.)\n",
    "\n",
    "\n",
    "B. Collocates around the keywords we have selected\n",
    "\n",
    "C. Keyness of these collocates to see what is distinctive for each year about invocations of these ideas.\n",
    "    "
   ]
  },
  {
   "cell_type": "markdown",
   "metadata": {},
   "source": [
    "# KWIC: \n",
    "\n",
    "### Now looking at mentions of loved ones in context."
   ]
  },
  {
   "cell_type": "markdown",
   "metadata": {},
   "source": [
    "### Family (2019)"
   ]
  },
  {
   "cell_type": "code",
   "execution_count": 17,
   "metadata": {},
   "outputs": [],
   "source": [
    "kwic_family_19 = []\n",
    "\n",
    "for tweet in tweets_2019:\n",
    "    tokens_19 = tokenize(tweet, lowercase = True)\n",
    "    kwic_19 = make_kwic(\"family\", tokens_19)\n",
    "    kwic_family_19.extend(kwic_19)"
   ]
  },
  {
   "cell_type": "code",
   "execution_count": 18,
   "metadata": {},
   "outputs": [],
   "source": [
    "kwic_family_19_sample = random.sample(kwic_family_19, 50)"
   ]
  },
  {
   "cell_type": "code",
   "execution_count": 19,
   "metadata": {},
   "outputs": [
    {
     "name": "stdout",
     "output_type": "stream",
     "text": [
      "                coming together food and  family     \n",
      "                       my friends and my  family     \n",
      "                    sending you and your  family  a very happy thanksgiving\n",
      "               amazing dinner with their  family  amp friends ♥️ thanksgiving\n",
      "                        we sit down with  family  and give thanks it\n",
      "               bless president trump his  family  and all those who\n",
      "        wonderful thanksgiving with your  family  and friends happythanksgiving2019 gratitude\n",
      "                      am thankful for my  family  and especially that adorable\n",
      "                          me and i guess  family  and peace and health\n",
      "                  love from your dearest  family  and friends may god\n",
      "                                          family  and the wonderful blessing\n",
      "                                          family  and friends a happy\n",
      "               at thanksgiving there’s a  family  bet between me and\n",
      "                      enjoying time w my  family  but still hold that\n",
      "bio healthythanksgiving healthyrecipes gratitude  family  celebration thankfulness httpstcosagcqxsidv \n",
      "blessedthanksgiving blessedandgrateful blessedbeyondmeasure blessedlife  family  familymatters holidaysarehere holidaysbeginhere holidayseason\n",
      "                                          family  food and thankfulness day\n",
      "         turkeyday food foodporn holiday  family  friends love instagood photooftheday\n",
      "                        this day with my  family  happy thanksgiving everyone httpstcom4l23y1viy\n",
      "              spend thanksgiving with my  family  happy thanksgiving from mine\n",
      "     dysfunctional yet amazingly perfect  family  happy thanksgiving everyone 🧡🍂🍽🦃🍽🍂🧡\n",
      "                      thank you may your  family  have peace and be\n",
      "                       the first time in  family  history today my cowboy\n",
      "                       over you and your  family  httpstconkcrookvpm   \n",
      "                thankful for this little  family  i love them so\n",
      "                to all celebrating today  family  love givethanks httpstcou24cmwwbku \n",
      "                  with great friends and  family  many blessings on this\n",
      "                    a wonderful day with  family  my heart is full\n",
      "                      give thanks for my  family  my pets and my\n",
      "                    a wonderful day with  family  my heart is full\n",
      "              of my nose familyoffriends  family  mypeople thanksgiving thankful sister\n",
      "                      am grateful for my  family  of friends especially slm8359\n",
      "                        to be with their  family  over the holidays etc\n",
      "                                          family  speaks swahili and with\n",
      "                    the entire child amp  family  staff who provide unwavering\n",
      "                                          family  thanksgiving 🦃 🥃🍽 httpstcoummbezyrcd\n",
      "                         all as a loving  family  thanksgiving2019 🦃 httpstcot6ytiy3ov7 httpstcoedkivnhn01\n",
      "                   days \"please give the  family  the space they need\n",
      "               thanksgiving day from our  family  to yours we are\n",
      "              happy thanksgiving from my  family  to yours hoping your\n",
      "                     always 😊and from my  family  to yours have a\n",
      "          thanksgiving from the lifesong  family  we are thankful for\n",
      "                 super thankful for this  family  we’ve made here in\n",
      "                      all my friends and  family  who have stood by\n",
      "                         to you and your  family  wishing you many blessings\n",
      "          happy thanksgiving wine turkey  family  wtf 🦃🦃 httpstconxorwryb1a \n",
      "                      bless you and your  family  you are truly a\n",
      "                      all my friends and  family  💓💘 httpstcoowggbsnkri  \n",
      "         my burrellcenter youth services  family  💕 my heart is\n",
      "                       the faith amp his  family  🙏🙏🙏 httpstcosvaue7pe6e  \n"
     ]
    }
   ],
   "source": [
    "print_kwic(sort_kwic(kwic_family_19_sample, order=['R1']))"
   ]
  },
  {
   "cell_type": "markdown",
   "metadata": {},
   "source": [
    "### Family (2020)"
   ]
  },
  {
   "cell_type": "code",
   "execution_count": 20,
   "metadata": {},
   "outputs": [],
   "source": [
    "kwic_family_20 = []\n",
    "\n",
    "for tweet in tweets_2020:\n",
    "    tokens_20 = tokenize(tweet, lowercase = True)\n",
    "    kwic_20 = make_kwic(\"family\", tokens_20)\n",
    "    kwic_family_20.extend(kwic_20)"
   ]
  },
  {
   "cell_type": "code",
   "execution_count": 21,
   "metadata": {},
   "outputs": [],
   "source": [
    "family_20_sample = random.sample(kwic_family_20, 50)"
   ]
  },
  {
   "cell_type": "code",
   "execution_count": 22,
   "metadata": {},
   "outputs": [
    {
     "name": "stdout",
     "output_type": "stream",
     "text": [
      "                    very grateful for my  family     \n",
      "               blessings for your entire  family     \n",
      "                     you and your entire  family     \n",
      "                         to you and your  family     \n",
      "                   they shall kill their  family  amp friends” httpstcoc2l8hnd1gy \n",
      "                          for the lord 💕  family  amp a \"working\" holiday\n",
      "                    i’m grateful for the  family  and community support that\n",
      "                thankful for our friends  family  and of course festive\n",
      "                    also thankful for my  family  and my wonderful friends\n",
      "                           and my job my  family  and friends im thankful\n",
      "                thanksgiving to you your  family  and everyone around you\n",
      "                    to have a supportive  family  and friends alot of\n",
      "            forever grateful for friends  family  and the communities i\n",
      "            eric amp newschannelnine our  family  are grateful wtvc9 team\n",
      "             happy thanksgiving from our  family  at riverside automotive to\n",
      "                    think someone in the  family  check my math on\n",
      "                      tits the game show  family  feud and the fact\n",
      "        thankful blessed gather together  family  friends thanks givethanks familytime\n",
      "                    been blessed with my  family  good health economic security\n",
      "            thanks holiday life thankful  family  grateful gratitude givethanks httpstcow1eiwu8std\n",
      "happythanksgivingday happythankgiving thankful blessed  family  happyfamily familytime httpstcofhzsxcywge \n",
      "                      for my friends amp  family  here amp abroad i\n",
      "                     great day with your  family  httpstcogfhdcbjeig   \n",
      "                         the rest of our  family  httpstcohep6y8bza4   \n",
      "                    thankful for the lil  family  i started 💕 \n",
      "               surrounded by friends and  family  if this is not\n",
      "                          the rest of my  family  immensely but i am\n",
      "                     cellars grown by my  family  in the willamette valley\n",
      "                     we need to remember  family  is everything a life\n",
      "                                          family  is the greatest blessing\n",
      "           372 thanksgiving special 2020  family  is a blessing httpstcowzmlzznkje\n",
      "                      thanks and be with  family  latinx thanksgiving holiday latinamerica\n",
      "                  you and your beautiful  family  many blessings  \n",
      "                   to daily update close  family  members on the phone\n",
      "           to yours 🦃🧡 happythanksgiving  family  mywholeworld givethanks kerman california\n",
      "                         a walk with the  family  on thanksgiving2020 staysafe httpstcoju950av0kg\n",
      "                        for you amp your  family  please request an audit\n",
      "                    have such an amazing  family  thankful for all my\n",
      "                         my sides of the  family  thankful for those i\n",
      "                   from the draft canada  family  thanksgiving draftinc thankful foreverthankful\n",
      "                  deeply grateful for my  family  they meet me where\n",
      "                     with them and their  family  this hits a littttttle\n",
      "             thanksgiving from our chose  family  to yours be sure\n",
      "                     i’m thankful for my  family  with the way things\n",
      "                                          family  zoom was actually a\n",
      "                                          family  ❤️   \n",
      "                  every moment with your  family  ❤️ amanda thanksgiving grateful\n",
      "             thanksgiving with my future  family  💀   \n",
      "                  grateful for my little  family  💜🍂 httpstco1re67cf6cf  \n",
      "                      for my friends and  family  😚 httpstcoczcibpqsca  \n"
     ]
    }
   ],
   "source": [
    "print_kwic(sort_kwic(family_20_sample , order=['R1']))"
   ]
  },
  {
   "cell_type": "markdown",
   "metadata": {},
   "source": [
    "### Friends (2019)"
   ]
  },
  {
   "cell_type": "code",
   "execution_count": 23,
   "metadata": {},
   "outputs": [],
   "source": [
    "kwic_friends_19 = []\n",
    "\n",
    "for tweet in tweets_2019:\n",
    "    tokens_19 = tokenize(tweet, lowercase = True)\n",
    "    kwic_19 = make_kwic(\"friends\", tokens_19)\n",
    "    kwic_friends_19.extend(kwic_19)"
   ]
  },
  {
   "cell_type": "code",
   "execution_count": 24,
   "metadata": {},
   "outputs": [],
   "source": [
    "kwic_friends_19_sample = random.sample(kwic_friends_19, 50)"
   ]
  },
  {
   "cell_type": "code",
   "execution_count": 25,
   "metadata": {},
   "outputs": [
    {
     "name": "stdout",
     "output_type": "stream",
     "text": [
      "                       to our family and  friends  across the ocean crowsgin\n",
      "        much this thanksgivingfamily and  friends  all of you who\n",
      "                  really grateful for my  friends  also me a tsundere\n",
      "                         all of you your  friends  amp families 🤗🧡🦃 httpstconncnmmzws1\n",
      "             our thankfulness for family  friends  and freedoms  \n",
      "                                          friends  and relatives please have\n",
      "                  time spent with family  friends  and rescue alumni wonka\n",
      "                    blessings to all our  friends  and loved ones xoxo\n",
      "            holiday surrounded by family  friends  and good food thanksgiving\n",
      "                        to have fun with  friends  and family today and\n",
      "                     for all the amazing  friends  and the support they\n",
      "               everyday thankful for the  friends  and family that are\n",
      "             of my childrenmyself family  friends  and gods many blessings\n",
      "                    enjoy time with your  friends  and family and on\n",
      "                      day full of family  friends  and thankfulness happy thanksgiving\n",
      "                  beyond grateful for my  friends  and family who are\n",
      "            happy thanksgiving from your  friends  at universal screens thanksgiving\n",
      "         of separation family colleagues  friends  both online and off\n",
      "                  thankful for my family  friends  constituents and a special\n",
      "                   me see their struggle  friends  dont think so but\n",
      "                 blessings of family and  friends  enjoy   \n",
      "                          lol i thank my  friends  for existing like every\n",
      "                     full life of family  friends  fun and faith a\n",
      "                     that our family and  friends  have shown us we\n",
      "                  thankful for my family  friends  health a career that\n",
      "              thankful for wonderful new  friends  here httpstcoipen2dzrpl  \n",
      "                        of my family and  friends  i am truly blessed\n",
      "                         giving to my us  friends  i just know that\n",
      "                        to make sure you  friends  know just how much\n",
      "             gathered with your families  friends  loved ones be mindful\n",
      "                      im thankful for my  friends  my cats and gin\n",
      "      the armywpfootball brotherhood and  friends  of windward wounded warriors\n",
      "                     thankful for all my  friends  old and new you\n",
      "                 i’m thankful for family  friends  pets and that bangtan\n",
      "             thankful for newhome family  friends  players allhandsondeck httpstcowquwnkawzq \n",
      "                     me with love family  friends  provisions life health and\n",
      "              thanksgiving to family and  friends  south of the 49th\n",
      "               our dance pointe families  friends  teachers and for all\n",
      "         that love me unconditionallyfor  friends  that make me belly\n",
      "                     are friends with my  friends  that are still addicts\n",
      "                       i’ve made so many  friends  through this damn bird\n",
      "                    you enjoy family and  friends  today thankful thankfulness thankfulforthanksgiving\n",
      "                     once we become good  friends  ugh yea i’m that\n",
      "            thanksgiving to our american  friends  we are grateful for\n",
      "                  thankful for the great  friends  we have made through\n",
      "                        my family and my  friends  who have supported me\n",
      "                     the folks i’ve made  friends  with over the past\n",
      "       genuine connections and authentic  friends  yall are my life\n",
      "                        my fiance and my  friends  youre kind of more\n",
      "                  enjoy our families and  friends  🙏🏽🧡🙏🏽🧡🙏🏽🧡 happythanksgiving httpstco7u8zagix7g \n"
     ]
    }
   ],
   "source": [
    "print_kwic(sort_kwic(kwic_friends_19_sample, order=['R1']))"
   ]
  },
  {
   "cell_type": "markdown",
   "metadata": {},
   "source": [
    "### Friends (2020)"
   ]
  },
  {
   "cell_type": "code",
   "execution_count": 26,
   "metadata": {},
   "outputs": [],
   "source": [
    "kwic_friends_20 = []\n",
    "\n",
    "for tweet in tweets_2020:\n",
    "    tokens_20 = tokenize(tweet, lowercase = True)\n",
    "    kwic_20 = make_kwic(\"friends\", tokens_20)\n",
    "    kwic_friends_20.extend(kwic_20)"
   ]
  },
  {
   "cell_type": "code",
   "execution_count": 27,
   "metadata": {},
   "outputs": [],
   "source": [
    "kwic_friends_20_sample = random.sample(kwic_friends_20, 50)"
   ]
  },
  {
   "cell_type": "code",
   "execution_count": 28,
   "metadata": {},
   "outputs": [
    {
     "name": "stdout",
     "output_type": "stream",
     "text": [
      "                  behind with my twitter  friends     \n",
      "                      my children and my  friends     \n",
      "                        2 family 3 close  friends  4 shelter 5 food\n",
      "                        to my family and  friends  all around the globe\n",
      "               a great thanksgiving with  friends  amp family may the\n",
      "                   reach limit in adding  friends  and run out of\n",
      "                       for my family our  friends  and our health gratitude\n",
      "                           to all of our  friends  and family we are\n",
      "               thankful for my beautiful  friends  and mutuals that always\n",
      "                   i would make internet  friends  and here i am\n",
      "                           for all of my  friends  and family thankful to\n",
      "           happy thanksgiving2020 to our  friends  family colleagues and business\n",
      "                taken for granted family  friends  foodcall it thanksliving \n",
      "                          of u have been  friends  for years and i\n",
      "                 grateful for family and  friends  for my family and\n",
      "   peacewolfactual definitely family and  friends  friends both offline and\n",
      "                          a week to have  friends  from many backgrounds httpstcodzaglicqqc\n",
      "              phone banking telling your  friends  getting out the vote\n",
      "           happy thanksgiving drinking a  friends  giving 2020 by dblnickelbrewcapemaybrewco\n",
      "                my american amp canadian  friends  happy celebration of the\n",
      "                         for my two best  friends  happy dongsgiving dumpsterfire1 smnurinnerbitch\n",
      "                my american amp canadian  friends  happy celebration of the\n",
      "                    with your family and  friends  httpstcotyeyz4z40s   \n",
      "                     for all my american  friends  i hope you all\n",
      "                    very grateful to the  friends  i have the countless\n",
      "                    thankful for the new  friends  i have made here\n",
      "                    grateful for all the  friends  in my life lt3\n",
      "                    i appreciate that my  friends  know i be having\n",
      "                                          friends  like you 😉😉😉 favourite\n",
      "                                          friends  like you 😉😉😉 favourite\n",
      "                 too andrew grateful for  friends  like you hope you\n",
      "                       for my family and  friends  my supporters and fans\n",
      "                        god my family my  friends  my health my happiness\n",
      "                           my side as my  friends  n mutuals as im\n",
      "             kylegriffin1 the family amp  friends  of 269520 cv•19 deaths\n",
      "                     thankful for all my  friends  on here amp my\n",
      "                       of my mutuals and  friends  on here there isn’t\n",
      "                 glad were such friendly  friends  please accept this token\n",
      "                                          friends  please help who are\n",
      "                    of you our followers  friends  supporters and colleagues many\n",
      "                         have them as my  friends  thank u for making\n",
      "                         have them as my  friends  thank u for making\n",
      "                       i don’t have many  friends  that is essentially by\n",
      "                            to all my 🇺🇸  friends  through a tough year\n",
      "                  grateful for my family  friends  to have shelter food\n",
      "                       thankful i am for  friends  who are so supportive\n",
      "                                          friends  with always surprised when\n",
      "                                          friends  — idk about you\n",
      "                      day to my american  friends  ❤️🇨🇦 “as we express\n",
      "                 thankful for our golden  friends  🐾😘😘🐾   \n"
     ]
    }
   ],
   "source": [
    "print_kwic(sort_kwic(kwic_friends_20_sample, order=['R1']))"
   ]
  },
  {
   "cell_type": "markdown",
   "metadata": {},
   "source": [
    "### You (2019)"
   ]
  },
  {
   "cell_type": "code",
   "execution_count": 29,
   "metadata": {},
   "outputs": [],
   "source": [
    "kwic_you_19 = []\n",
    "\n",
    "for tweet in tweets_2019:\n",
    "    tokens_19 = tokenize(tweet, lowercase = True)\n",
    "    kwic_19 = make_kwic(\"you\", tokens_19)\n",
    "    kwic_you_19.extend(kwic_19)"
   ]
  },
  {
   "cell_type": "code",
   "execution_count": 30,
   "metadata": {},
   "outputs": [],
   "source": [
    "kwic_you_19_sample = random.sample(kwic_you_19, 50)"
   ]
  },
  {
   "cell_type": "code",
   "execution_count": 31,
   "metadata": {},
   "outputs": [
    {
     "name": "stdout",
     "output_type": "stream",
     "text": [
      "                         are with all of  you     \n",
      "                      back at home texts  you  about missing you on\n",
      "                 gobble i’m grateful for  you  all httpstcobe6fs2gpzr  \n",
      "                                          you  and yours a wonderful\n",
      "         thanksgiving coach blessings to  you  and your family \n",
      "              appreciate of how thankful  you  are to your close\n",
      "                  mindanao so happy that  you  are well taken care\n",
      "                                          you  are having a great\n",
      "                      have no doubt that  you  are making a difference\n",
      "         gratitude challenge tag someone  you  are grateful for happyholidays\n",
      "        texancod teddyrecks i appreciate  you  brother   \n",
      "                       will come then if  you  can say a quick\n",
      "                        can kill you and  you  can only throw stones\n",
      "                  thanksgiving to all of  you  celebrating it 🍁 let’s\n",
      "                      could all have and  you  could ever hope for\n",
      "                        are and all that  you  do httpstcoql8mgusbwi  \n",
      "                       thank you for all  you  do to make our\n",
      "                  in this house honestly  you  dont realise how lucky\n",
      "                   the catches and thank  you  for being a 4\n",
      "             you petebuttigieg and thank  you  for stepping up to\n",
      "                     my guy i appreciate  you  fr   \n",
      "            send📬this to 10 hoekies🦃💦😎if  you  get 0 back you\n",
      "                            for a lot of  you  guys is also gina\n",
      "                     am thankful for all  you  guys and for your\n",
      "                        had told you but  you  had ignored😅  \n",
      "                        you david i hope  you  had a wonderful and\n",
      "               appreciate all the laughs  you  have given me throughout\n",
      "                   know i’m thankful for  you  ily 💗💗  \n",
      "                                          you  im blessed to live\n",
      "                  no matter what country  you  live in please give\n",
      "                     we are grateful for  you  markruffalo and robertbilott taking\n",
      "                    we are today without  you  may love peace and\n",
      "                     thankful for all of  you  our family and friends\n",
      "                     all whom embrace it  you  put in the work\n",
      "                     “if the only prayer  you  said was thank you\n",
      "                                          you  same to you too\n",
      "            about your perspective maybe  you  should’ve clarified society’s opinion\n",
      "                     gratitude to all of  you  thank you for your\n",
      "       thanksgiving everyone 🦃🍁🧡what are  you  thankful for  \n",
      "                helping save lifes thank  you  thankyou thanksgiving httpstcowmfo4om8vb \n",
      "                 amp chatts i appreciate  you  the more if we\n",
      "        and blessed thanksgiving wishing  you  the gift of faith\n",
      "                     what you have thank  you  to everyone who has\n",
      "                     grateful for all of  you  too   \n",
      "               bro happy thanksgiving to  you  too   \n",
      "                     are so grateful for  you  we express our deep\n",
      "               your carbon footprint but  you  will gain a deeper\n",
      "                     of the year provide  you  with opportunities that are\n",
      "                       is also great but  you  write at least 5\n",
      "                who genuinely care about  you  🖤   \n"
     ]
    }
   ],
   "source": [
    "print_kwic(sort_kwic(kwic_you_19_sample, order=['R1']))"
   ]
  },
  {
   "cell_type": "markdown",
   "metadata": {},
   "source": [
    "### You (2020)"
   ]
  },
  {
   "cell_type": "code",
   "execution_count": 32,
   "metadata": {},
   "outputs": [],
   "source": [
    "kwic_you_20 = []\n",
    "\n",
    "for tweet in tweets_2020:\n",
    "    tokens_20 = tokenize(tweet, lowercase = True)\n",
    "    kwic_20 = make_kwic(\"you\", tokens_20)\n",
    "    kwic_you_20.extend(kwic_20)"
   ]
  },
  {
   "cell_type": "code",
   "execution_count": 33,
   "metadata": {},
   "outputs": [],
   "source": [
    "kwic_you_20_sample = random.sample(kwic_you_20, 50)"
   ]
  },
  {
   "cell_type": "code",
   "execution_count": 34,
   "metadata": {},
   "outputs": [
    {
     "name": "stdout",
     "output_type": "stream",
     "text": [
      "              paying attention god bless  you     \n",
      "               soundly tonight thanks to  you     \n",
      "                   appreciate you i love  you  all 💖💖💖🤞🏼  \n",
      "                       love and light to  you  all blessings and grace\n",
      "                        good book i wish  you  all well httpstcodlzgbqycpp \n",
      "                     i cant express what  you  all mean to me\n",
      "                        should be in bed  you  always make me feel\n",
      "        happy thanksgiving chris wishing  you  and yours many more\n",
      "                      planned it we love  you  and we will forever\n",
      "           covidnj happy thanksgiving to  you  and thanks for all\n",
      "                   grateful to just know  you  and be able to\n",
      "           thanksgiving and blessings to  you  and your family \n",
      "                                          you  are a kind hearted\n",
      "                    life you lead maisie  you  are so very lucky\n",
      "                                          you  as well as difficult\n",
      "                  help the people around  you  as much as you\n",
      "                you’re thankful for have  you  brought that attitude of\n",
      "                     amp that’s good for  you  but if you have\n",
      "                    optimum well i guess  you  can not be grateful\n",
      "                this day of thankfulness  you  choose to tweet out\n",
      "                                          you  count your blessings don’t\n",
      "                      life is bliss when  you  count your blessings💖🥲 \n",
      "                    anyone who helps you  you  deserve the world and\n",
      "                                          you  do whether in word\n",
      "                        the same we hope  you  find a way to\n",
      "                   true to yourself love  you  forever kristen stewart 🥰❤️\n",
      "                grateful for the support  you  give me  \n",
      "                  happy i’m thankful for  you  guys with your valuable\n",
      "                     grateful for all of  you  happy thanksgiving httpstcogv3evdkbpp \n",
      "                     just wanted to tell  you  how thankful i am\n",
      "                  thanksgiving to all of  you  i hope you all\n",
      "majorbush98 purmetheus andreac61264162 thank  you  i appreciate it i\n",
      "                                          you  jesus 🙏♥️💖 thankful vegan\n",
      "                                          you  jesus 🙏♥️💖 thankful vegan\n",
      "                                          you  jon blessings to you\n",
      "                      take care of those  you  love how would you\n",
      "              wonderful food with people  you  love and are quarantined\n",
      "              very happy thanksgiving to  you  one of the things\n",
      "                hard work and dedication  you  put into castiel \n",
      "                         of all how dare  you  second of all how\n",
      "                                          you  so much crawf for\n",
      "                                          you  thanks stepping up to\n",
      "                                          you  think the entire world\n",
      "                  life health love thank  you  to all who are\n",
      "                                          you  too juliemayville 🥰 \n",
      "                                          you  too kiki httpstcozsclwzi2xd \n",
      "                     i’m so thankful for  you  too lt33 happy thanksgiving\n",
      "                    am sooo thankful for  you  too   \n",
      "                                          you  want to turn your\n",
      "                                          you  you did your best\n"
     ]
    }
   ],
   "source": [
    "print_kwic(sort_kwic(kwic_you_20_sample, order=['R1']))"
   ]
  },
  {
   "cell_type": "markdown",
   "metadata": {},
   "source": [
    "### What does this tell us?\n",
    "\n",
    "One thing that is clear from these KWIC is that \"you\" is not a good keyword as it includes both appeals to specific people and generic statements to the public like \"you all\" so it not exactly working towards our hypothesis.\n",
    "\n",
    "It is difficult to compare KWIC for friends and family, so we can:\n",
    "\n",
    "A. **look at the collocates around these words to see in what contexts they function.**  \n",
    "B. **look at the collacates' keyness to see if these contexts are distinctive.**"
   ]
  },
  {
   "cell_type": "markdown",
   "metadata": {},
   "source": [
    "## Keyness of Collocates Around Family and Friends."
   ]
  },
  {
   "cell_type": "markdown",
   "metadata": {},
   "source": [
    "## Family "
   ]
  },
  {
   "cell_type": "code",
   "execution_count": 35,
   "metadata": {},
   "outputs": [],
   "source": [
    "coll_family_19 = collocates(tokens_2019,\"family\", win=[4,4])"
   ]
  },
  {
   "cell_type": "code",
   "execution_count": 36,
   "metadata": {},
   "outputs": [],
   "source": [
    "coll_family_19_freq = Counter([word for word in tokens_2019 if (word in coll_family_19)])"
   ]
  },
  {
   "cell_type": "code",
   "execution_count": 37,
   "metadata": {},
   "outputs": [],
   "source": [
    "coll_family_20 = collocates(tokens_2020,\"family\", win=[4,4])"
   ]
  },
  {
   "cell_type": "code",
   "execution_count": 38,
   "metadata": {},
   "outputs": [],
   "source": [
    "coll_family_20_freq = Counter([word for word in tokens_2020 if (word in coll_family_20)])"
   ]
  },
  {
   "cell_type": "code",
   "execution_count": 39,
   "metadata": {},
   "outputs": [
    {
     "name": "stdout",
     "output_type": "stream",
     "text": [
      "WORD                     Corpus A Freq.Corpus B Freq.Keyness\n",
      "============================================================\n",
      "day                      1700      1265      51.527\n",
      "full                     224       120       28.861\n",
      "@                        266       158       24.634\n",
      "loving                   100       41        23.705\n",
      "#family                  156       79        23.418\n",
      "wonderful                414       278       22.934\n",
      "thanksgiving             4123      3599      21.456\n",
      "friends                  984       767       20.777\n",
      "family                   1710      1413      19.990\n",
      "her                      350       242       16.671\n",
      "season                   186       115       14.820\n",
      "🦃                        213       141       12.642\n",
      "#grateful                261       183       11.508\n",
      "amazing                  366       272       11.193\n",
      "spend                    134       82        11.113\n",
      "grace                    63        30        10.988\n",
      "part                     149       94        10.943\n",
      "course                   59        28        10.371\n",
      "our                      1758      1530      9.658\n",
      "give                     1028      868       9.097\n",
      "work                     291       217       8.688\n",
      "babies                   25        8         8.685\n",
      "visit                    38        16        8.574\n",
      "#thanksgiving            618       505       8.218\n",
      "home                     216       156       7.984\n",
      "opportunities            57        30        7.720\n",
      "tomorrow                 77        45        7.549\n",
      "we're                    134       90        7.415\n",
      "life                     979       838       7.091\n",
      "at                       820       694       7.022\n",
      "which                    135       92        6.942\n"
     ]
    }
   ],
   "source": [
    "calculate_keyness(coll_family_19_freq, coll_family_20_freq, top=50)"
   ]
  },
  {
   "cell_type": "code",
   "execution_count": 40,
   "metadata": {},
   "outputs": [
    {
     "name": "stdout",
     "output_type": "stream",
     "text": [
      "WORD                     Corpus A Freq.Corpus B Freq.Keyness\n",
      "============================================================\n",
      "safe                     331       120       109.186\n",
      "stay                     233       83        78.778\n",
      "year                     1060      720       76.077\n",
      "you                      7138      6574      43.488\n",
      "through                  303       182       34.294\n",
      "but                      1532      1266      34.047\n",
      "im                       271       166       28.766\n",
      "u                        464       329       27.376\n",
      "it                       1793      1567      22.848\n",
      "sorry                    102       47        22.494\n",
      "healthy                  109       52        22.392\n",
      "has                      706       568       19.461\n",
      "lot                      284       196       19.007\n",
      "been                     706       574       17.939\n",
      "as                       915       768       17.707\n",
      "his                      632       508       17.542\n",
      "tough                    54        21        16.048\n",
      "during                   140       84        15.901\n",
      "crazy                    74        36        14.581\n",
      "this                     2811      2615      14.282\n",
      "health                   203       141       13.197\n",
      "congratulations          42        16        12.884\n",
      "only                     275       205       12.481\n",
      "care                     142       92        12.339\n",
      "prayers                  59        28        12.254\n",
      "&amp;                    1135      1006      12.187\n",
      "ily                      39        15        11.790\n",
      "#givethanks              280       212       11.606\n",
      "so                       2409      2256      10.739\n",
      "myself                   122       79        10.622\n",
      "any                      179       127       10.529\n",
      "i                        5850      5684      10.087\n",
      "much                     893       789       9.980\n",
      "help                     193       142       9.420\n",
      "cook                     42        20        8.661\n",
      "thinking                 61        34        8.622\n",
      "too                      425       356       8.379\n",
      "way                      282       226       8.003\n",
      "other                    225       177       7.295\n",
      "hear                     82        53        7.190\n",
      "own                      100       68        7.143\n",
      "like                     696       620       7.002\n",
      "parents                  97        66        6.910\n",
      "ur                       111       78        6.837\n",
      "same                     143       106       6.699\n",
      ":)                       71        45        6.693\n"
     ]
    }
   ],
   "source": [
    "calculate_keyness(coll_family_20_freq, coll_family_19_freq, top=50)"
   ]
  },
  {
   "cell_type": "markdown",
   "metadata": {},
   "source": [
    "### Collocates around family distinctive to 2019 corpus:\n",
    " - adding to our hypothesis: friends, family, #family\n",
    " - descriptions: full, loving, wonderful, amazing\n",
    " - verbs: spend, visit, work, give\n",
    " - pronouns: her, our\n",
    " - time: day, tomorrow, season\n",
    " - nouns: life, babies, home, grace\n",
    "\n",
    "\n",
    "### Collocates around family distinctive to 2020 corpus:\n",
    " - negative descriptions and modifiers: through, but, sorry, tough, crazy\n",
    " - modifiers: only, much, too, other, like, same\n",
    " - command: stay\n",
    " - pronouns: you, myself, i\n",
    " - descriptions: safe\n",
    " - time: year\n",
    " - verb: help, cook, hear, thinking"
   ]
  },
  {
   "cell_type": "markdown",
   "metadata": {},
   "source": [
    "# Friends"
   ]
  },
  {
   "cell_type": "code",
   "execution_count": 41,
   "metadata": {},
   "outputs": [],
   "source": [
    "coll_friends_19 = collocates(tokens_2019,\"friends\", win=[4,4])"
   ]
  },
  {
   "cell_type": "code",
   "execution_count": 42,
   "metadata": {},
   "outputs": [],
   "source": [
    "coll_friends_19_freq = Counter([word for word in tokens_2019 if (word in coll_friends_19)])"
   ]
  },
  {
   "cell_type": "code",
   "execution_count": 43,
   "metadata": {},
   "outputs": [],
   "source": [
    "coll_friends_20 = collocates(tokens_2020,\"friends\", win=[4,4])"
   ]
  },
  {
   "cell_type": "code",
   "execution_count": 44,
   "metadata": {},
   "outputs": [],
   "source": [
    "coll_friends_20_freq = Counter([word for word in tokens_2020 if (word in coll_friends_20)])"
   ]
  },
  {
   "cell_type": "code",
   "execution_count": 45,
   "metadata": {},
   "outputs": [
    {
     "name": "stdout",
     "output_type": "stream",
     "text": [
      "WORD                     Corpus A Freq.Corpus B Freq.Keyness\n",
      "============================================================\n",
      "day                      1700      1265      41.821\n",
      "@                        266       158       22.046\n",
      "#family                  156       79        21.535\n",
      "wonderful                414       278       19.765\n",
      "friends                  984       767       16.090\n",
      "her                      350       242       14.179\n",
      "family                   1710      1413      13.989\n",
      "season                   186       115       13.132\n",
      "thanksgiving             4123      3599      12.125\n",
      "friday                   73        35        11.598\n",
      "spend                    134       82        9.874\n",
      "#grateful                261       183       9.718\n",
      "course                   59        28        9.609\n",
      "he                       558       434       9.321\n",
      "amazing                  366       272       9.094\n",
      "babies                   25        8         8.258\n",
      "opportunities            57        30        7.062\n",
      "fun                      84        50        6.906\n",
      "home                     216       156       6.624\n"
     ]
    }
   ],
   "source": [
    "calculate_keyness(coll_friends_19_freq, coll_friends_20_freq, top=50)"
   ]
  },
  {
   "cell_type": "code",
   "execution_count": 46,
   "metadata": {},
   "outputs": [
    {
     "name": "stdout",
     "output_type": "stream",
     "text": [
      "WORD                     Corpus A Freq.Corpus B Freq.Keyness\n",
      "============================================================\n",
      "2020                     198       36        132.818\n",
      "safe                     331       120       114.968\n",
      "year                     1060      720       85.995\n",
      "stay                     233       83        82.887\n",
      "you                      7138      6574      66.060\n",
      "but                      1532      1266      42.605\n",
      "through                  303       182       37.739\n",
      "u                        464       329       31.363\n",
      "it                       1793      1567      30.679\n",
      "healthy                  109       52        23.976\n",
      "has                      706       568       23.800\n",
      "moots                    34        6         23.250\n",
      "as                       915       768       22.514\n",
      "this                     2811      2615      22.503\n",
      "been                     706       574       22.125\n",
      "lot                      284       196       21.585\n",
      "his                      632       508       21.438\n",
      "i                        5850      5684      20.996\n",
      "so                       2409      2256      17.400\n",
      "&amp;                    1135      1006      16.784\n",
      "health                   203       141       15.017\n",
      "helped                   104       61        13.900\n",
      "#givethanks              280       212       13.667\n",
      "much                     893       789       13.660\n",
      "we                       2328      2233      10.997\n",
      "fam                      94        58        10.765\n",
      "too                      425       356       10.630\n",
      "like                     696       620       9.741\n",
      "the                      8180      8247      9.616\n",
      "god                      916       838       9.283\n",
      "grateful                 2367      2295      8.910\n",
      "kind                     130       92        8.863\n",
      "other                    225       177       8.781\n",
      "states                   29        12        8.260\n",
      "neighbors                21        7         8.140\n",
      "own                      100       68        8.077\n",
      "parents                  97        66        7.815\n",
      "know                     568       507       7.772\n",
      ":)                       71        45        7.440\n",
      "glad                     91        62        7.292\n",
      "colleagues               37        19        6.952\n",
      "guys                     220       179       6.858\n",
      "followers                79        53        6.731\n"
     ]
    }
   ],
   "source": [
    "calculate_keyness(coll_friends_20_freq, coll_friends_19_freq, top=50)"
   ]
  },
  {
   "cell_type": "markdown",
   "metadata": {},
   "source": [
    "We see similar dynamics around friends in the two corpora:\n",
    "\n",
    "### Collocates around friends distinctive to 2019 corpus:\n",
    "\n",
    "- hypothesis: #family, friends, family, babies\n",
    "- verbs: spend\n",
    "- positive descriptions: wonderful, amazing, fun\n",
    "- nouns: home, season, course, day\n",
    "- pronouns: her, he\n",
    "\n",
    "### Collocates around friends distinctive to 2020 corpus:\n",
    "\n",
    "- pronouns: you, i\n",
    "- descriptions having to do with pandemic: safe, stay, workers, healthy\n",
    "- negative modifiers: but, through, lot, other \n",
    "- verbs: helped, \n",
    "- people: neighbors, parents, colleagues, guys, followers, god\n"
   ]
  },
  {
   "cell_type": "markdown",
   "metadata": {},
   "source": [
    "### What does this mean for our hypothesis?\n",
    "\n",
    "Before we started the analysis in this notebook, our updated hypothesis was that health was more distinctive to 2020 and family/friends to 2020. \n",
    "\n",
    "We see our further analysis of these ideas in context, both in KWIC and keyness of the collocates, **support this hypothesis** because **we see that the collocates around these words are ladden with more descriptions of health in 2020 and family/friends in 2019**. \n",
    "\n",
    "These analyses also introduce some interesting new ideas on the comparisons between the corpora:\n",
    "\n",
    "We see two big comparisons:\n",
    "\n",
    "1. The tweets in 2019 are a lot more positive:\n",
    " -  2019: wonderful, amazing, incredible\n",
    " -  2020: but, help, though, despite, sorry\n",
    "   \n",
    "     \n",
    "2. Following this, the context in which gratitude appears in 2020 seem to have a lot more modifiers which suggest that perhaps people have to couch gratitude in an acknowledgement of the troubles of the year with words like: but, through, lot, much."
   ]
  },
  {
   "cell_type": "code",
   "execution_count": null,
   "metadata": {},
   "outputs": [],
   "source": []
  }
 ],
 "metadata": {
  "kernelspec": {
   "display_name": "Python 3",
   "language": "python",
   "name": "python3"
  },
  "language_info": {
   "codemirror_mode": {
    "name": "ipython",
    "version": 3
   },
   "file_extension": ".py",
   "mimetype": "text/x-python",
   "name": "python",
   "nbconvert_exporter": "python",
   "pygments_lexer": "ipython3",
   "version": "3.7.3"
  }
 },
 "nbformat": 4,
 "nbformat_minor": 2
}
